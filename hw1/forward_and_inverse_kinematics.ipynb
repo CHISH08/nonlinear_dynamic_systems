{
  "cells": [
    {
      "cell_type": "code",
      "execution_count": 2,
      "metadata": {
        "id": "DWcgQgxGTtPy"
      },
      "outputs": [],
      "source": [
        "import numpy as np"
      ]
    },
    {
      "cell_type": "markdown",
      "metadata": {
        "id": "3Ur0DT6hWVDh"
      },
      "source": [
        "# ДЗ1: Puma с кистью"
      ]
    },
    {
      "cell_type": "markdown",
      "metadata": {
        "id": "GwlGLdCJxT5_"
      },
      "source": [
        "<img src=\"images/schema.jpg\" alt=\"Кинематическая схема\">\n",
        "<p align=\"center\"><em>Кинематическая схема</em></p>"
      ]
    },
    {
      "cell_type": "markdown",
      "metadata": {
        "id": "qmWTZTW-tPhX"
      },
      "source": [
        "Вспомогательные функции"
      ]
    },
    {
      "cell_type": "code",
      "execution_count": 3,
      "metadata": {
        "id": "0kvc15L8S_lN"
      },
      "outputs": [],
      "source": [
        "def Rx(q):\n",
        "    T = np.array([[1,         0,          0, 0],\n",
        "                  [0, np.cos(q), -np.sin(q), 0],\n",
        "                  [0, np.sin(q),  np.cos(q), 0],\n",
        "                  [0,         0,          0, 1]], dtype=float)\n",
        "    return T\n",
        "\n",
        "\n",
        "def Ry(q):\n",
        "    T = np.array([[ np.cos(q), 0, np.sin(q), 0],\n",
        "                  [         0, 1,         0, 0],\n",
        "                  [-np.sin(q), 0, np.cos(q), 0],\n",
        "                  [         0, 0,         0, 1]], dtype=float)\n",
        "    return T\n",
        "\n",
        "\n",
        "def Rz(q):\n",
        "    T = np.array([[np.cos(q), -np.sin(q), 0, 0],\n",
        "                  [np.sin(q),  np.cos(q), 0, 0],\n",
        "                  [        0,          0, 1, 0],\n",
        "                  [        0,          0, 0, 1]], dtype=float)\n",
        "    return T\n",
        "\n",
        "\n",
        "def Tx(x):\n",
        "    T = np.array([[1, 0, 0, x],\n",
        "                  [0, 1, 0, 0],\n",
        "                  [0, 0, 1, 0],\n",
        "                  [0, 0, 0, 1]], dtype=float)\n",
        "    return T\n",
        "\n",
        "\n",
        "def Ty(y):\n",
        "    T = np.array([[1, 0, 0, 0],\n",
        "                  [0, 1, 0, y],\n",
        "                  [0, 0, 1, 0],\n",
        "                  [0, 0, 0, 1]], dtype=float)\n",
        "    return T\n",
        "\n",
        "\n",
        "def Tz(z):\n",
        "    T = np.array([[1, 0, 0, 0],\n",
        "                  [0, 1, 0, 0],\n",
        "                  [0, 0, 1, z],\n",
        "                  [0, 0, 0, 1]], dtype=float)\n",
        "    return T\n",
        "\n",
        "def T_next(theta_i, d_i, alpha_i, a_i):\n",
        "    T_i = Rz(theta_i) @ Tz(d_i) @ Tx(a_i) @ Rx(alpha_i)\n",
        "    return T_i"
      ]
    },
    {
      "cell_type": "markdown",
      "metadata": {
        "id": "7Pe1KK9UWdOz"
      },
      "source": [
        "## Кинематическая схема"
      ]
    },
    {
      "cell_type": "markdown",
      "metadata": {
        "id": "CKmu7NBpWhoo"
      },
      "source": [
        "## Решение прямой задачи"
      ]
    },
    {
      "cell_type": "markdown",
      "metadata": {},
      "source": [
        "<img src=\"images/dh.jpg\" alt=\"Денавита-Хартенберга\">\n",
        "<p align=\"center\"><em>Решение с помощью метода Денавита–Хартенберга</em></p>"
      ]
    },
    {
      "cell_type": "markdown",
      "metadata": {
        "id": "Sk_a7awYtTCv"
      },
      "source": [
        "Зададим длины"
      ]
    },
    {
      "cell_type": "code",
      "execution_count": 4,
      "metadata": {
        "id": "Jz_tZ2bETMBR"
      },
      "outputs": [],
      "source": [
        "l1 = 3\n",
        "l2 = 2\n",
        "l3 = 2"
      ]
    },
    {
      "cell_type": "markdown",
      "metadata": {
        "id": "KismQN-6tVkh"
      },
      "source": [
        "Задаем углы, которые достаточно понятны для понимания (вытянутый 2 шарнир вправо)"
      ]
    },
    {
      "cell_type": "code",
      "execution_count": 5,
      "metadata": {
        "colab": {
          "base_uri": "https://localhost:8080/"
        },
        "id": "f6vnp1yLTfCp",
        "outputId": "ec51173d-02cc-47e8-bbc7-0ece839f76df"
      },
      "outputs": [
        {
          "name": "stdout",
          "output_type": "stream",
          "text": [
            "[[ 7.09349674e-17  4.96691989e-17 -1.00000000e+00  4.00000000e+00]\n",
            " [-1.73648178e-01 -9.84807753e-01 -6.12323400e-17 -1.22464680e-16]\n",
            " [-9.84807753e-01  1.73648178e-01 -6.12323400e-17  3.00000000e+00]\n",
            " [ 0.00000000e+00  0.00000000e+00  0.00000000e+00  1.00000000e+00]]\n"
          ]
        }
      ],
      "source": [
        "theta0 = 0\n",
        "theta1 = 0\n",
        "theta2 = 90\n",
        "theta3 = 0\n",
        "theta4 = 180\n",
        "theta5 = 10\n",
        "\n",
        "theta0_rad = np.deg2rad(theta0)\n",
        "theta1_rad = np.deg2rad(theta1)\n",
        "theta2_rad = np.deg2rad(theta2)\n",
        "theta3_rad = np.deg2rad(theta3)\n",
        "theta4_rad = np.deg2rad(theta4)\n",
        "theta5_rad = np.deg2rad(theta5)\n",
        "\n",
        "T = T_next(theta0_rad, l1, np.pi/2, 0) @ T_next(theta1_rad, 0, 0, l2) @ T_next(theta2_rad, 0, np.pi/2, 0) @ T_next(-theta3_rad, l3, -np.pi/2, 0) @ T_next(-theta4_rad, 0, np.pi/2, 0) @ T_next(theta5_rad, 0, 0, 0)\n",
        "print(T)"
      ]
    },
    {
      "cell_type": "markdown",
      "metadata": {
        "id": "J1qIFa5CW1Rf"
      },
      "source": [
        "## Решение обратной задачи"
      ]
    },
    {
      "cell_type": "markdown",
      "metadata": {
        "id": "zfuISXlBts2N"
      },
      "source": [
        "Обратную кинематику решал на основе предположений:\n",
        "\n",
        "* `z = l1 + l2 * sin(Θ1) - l3 * cos(Θ1 + Θ2)`\n",
        "* `x = (l2 * cos(Θ1) + l3 * sin(Θ1 + Θ2)) * cos(Θ0)`\n",
        "* `y = (l2 * cos(Θ1) + l3 * sin(Θ1 + Θ2)) * sin(Θ0)`\n",
        "\n",
        "Координаты не зависят от сферического запястья, его можно не учитывать на позиционном этапе. Далее углы запястья ищутся по стандартным формулам для сферического шарнира Z–Y–Z: зная итоговую `T`, находим `T` до запястья и берём оставшуюся ориентацию `R`, из которой извлекаем углы запястья."
      ]
    },
    {
      "cell_type": "code",
      "execution_count": 6,
      "metadata": {
        "id": "7jx0PQSNb2RA"
      },
      "outputs": [],
      "source": [
        "def euler_zyz_from_R(R, degrees=False, z_down_y_toward=True, eps=1e-12):\n",
        "    '''Функция для нахождения углов в сферическо шарнире zyz (учитывает что мои оси отрицательно направлены относительно глобальной системы)'''\n",
        "    R = np.asarray(R, dtype=float)\n",
        "    if R.shape != (3, 3):\n",
        "        raise ValueError(\"R must be 3x3\")\n",
        "\n",
        "    if z_down_y_toward:\n",
        "        S = np.diag([1.0, -1.0, -1.0])\n",
        "        R = S @ R @ S\n",
        "\n",
        "    r11, r12, r13 = R[0]\n",
        "    r21, r22, r23 = R[1]\n",
        "    r31, r32, r33 = R[2]\n",
        "\n",
        "    beta = np.arctan2(np.hypot(r13, r23), r33)\n",
        "\n",
        "    if abs(np.sin(beta)) > eps:\n",
        "        alpha = np.arctan2(r23, r13)\n",
        "        gamma = np.arctan2(r32, -r31)\n",
        "    else:\n",
        "        if r33 > 0:\n",
        "            alpha = 0.0\n",
        "            gamma = np.arctan2(r21, r11)\n",
        "        else:\n",
        "            alpha = 0.0\n",
        "            gamma = np.arctan2(-r21, -r11)\n",
        "\n",
        "    def wrap_pi(a):\n",
        "        return (a + np.pi) % (2*np.pi) - np.pi\n",
        "    alpha, beta, gamma = map(wrap_pi, (alpha, beta, gamma))\n",
        "\n",
        "    if degrees:\n",
        "        alpha, beta, gamma = map(np.degrees, (alpha, beta, gamma))\n",
        "\n",
        "    return alpha, beta, gamma\n",
        "\n",
        "def inverse_puma(T, degrees=True, eps=1e-12):\n",
        "    x, y, z = float(T[0, -1]), float(T[1, -1]), float(T[2, -1])\n",
        "\n",
        "    theta0 = np.arctan2(y, x)\n",
        "\n",
        "    A = np.sqrt(x**2 + y**2)\n",
        "    B = z - l1\n",
        "\n",
        "    denom = 2.0 * l2 * l3\n",
        "    if abs(denom) < eps:\n",
        "        raise ValueError(\"Дегенератная геометрия: l2*l3≈0.\")\n",
        "\n",
        "    sin_theta2 = (A*A + B*B - l2*l2 - l3*l3) / denom\n",
        "    sin_theta2 = float(np.clip(sin_theta2, -1.0, 1.0))\n",
        "\n",
        "    cos_sq = max(0.0, 1.0 - sin_theta2**2)\n",
        "    cos_pos = np.sqrt(cos_sq)\n",
        "    cos_neg = -cos_pos\n",
        "\n",
        "    sols = []\n",
        "    R06 = np.asarray(T[:3, :3], float)\n",
        "\n",
        "    for cos_t2 in (cos_pos, cos_neg):\n",
        "        R = l2 + l3 * sin_theta2\n",
        "        S = l3 * cos_t2\n",
        "        denom_RS = R*R + S*S\n",
        "        if denom_RS < eps:\n",
        "            continue\n",
        "\n",
        "        sin_t1 = (S*A + R*B) / denom_RS\n",
        "        cos_t1 = (R*A - S*B) / denom_RS\n",
        "        sin_t1 = float(np.clip(sin_t1, -1.0, 1.0))\n",
        "        cos_t1 = float(np.clip(cos_t1, -1.0, 1.0))\n",
        "\n",
        "        theta1 = np.arctan2(sin_t1, cos_t1)\n",
        "        theta2 = np.arctan2(sin_theta2, cos_t2)\n",
        "\n",
        "        R03 = Ry(theta2) @ Ry(theta1) @ Rz(theta0)\n",
        "        R36 = R03[:3, :3].T @ R06\n",
        "\n",
        "        alpha, beta, gamma = euler_zyz_from_R(R36, degrees=False, z_down_y_toward=True, eps=eps)\n",
        "\n",
        "        theta3 = -alpha\n",
        "        theta4 = -beta\n",
        "        theta5 =  gamma\n",
        "\n",
        "        def wrap_pi(a):\n",
        "          return (a + np.pi) % (2*np.pi) - np.pi\n",
        "\n",
        "        if theta4 < 0:\n",
        "            theta3 -= np.pi\n",
        "            theta4 = -theta4\n",
        "            theta5 += np.pi\n",
        "\n",
        "        if theta5 < 0:\n",
        "            theta3 -= np.pi\n",
        "            theta4 = -theta4\n",
        "            theta5 += np.pi\n",
        "\n",
        "        theta3, theta4, theta5 = map(wrap_pi, (theta3, theta4, theta5))\n",
        "\n",
        "        if degrees:\n",
        "            sols.append((\n",
        "                np.degrees(theta0).item(),\n",
        "                np.degrees(theta1).item(),\n",
        "                np.degrees(theta2).item(),\n",
        "                np.degrees(theta3).item(),\n",
        "                np.degrees(theta4).item(),\n",
        "                np.degrees(theta5).item(),\n",
        "            ))\n",
        "        else:\n",
        "            sols.append((theta0, theta1, theta2, theta3, theta4, theta5))\n",
        "\n",
        "    return sols"
      ]
    },
    {
      "cell_type": "code",
      "execution_count": 7,
      "metadata": {
        "colab": {
          "base_uri": "https://localhost:8080/"
        },
        "id": "sLbLVbyJE1iz",
        "outputId": "2277a4d0-4c21-4f90-f4ff-d65432d31ae8"
      },
      "outputs": [
        {
          "data": {
            "text/plain": [
              "[(0.0, 0.0, 90.0, 0.0, 90.0, 90.0), (0.0, 0.0, 90.0, 0.0, 90.0, 90.0)]"
            ]
          },
          "execution_count": 7,
          "metadata": {},
          "output_type": "execute_result"
        }
      ],
      "source": [
        "T = np.array([\n",
        "    [0, -1, 0, 4],\n",
        "    [-1, 0, 0, 0],\n",
        "    [0, 0, -1, 3],\n",
        "    [0, 0, 0, 1]\n",
        "])\n",
        "sol = inverse_puma(T)\n",
        "sol"
      ]
    },
    {
      "cell_type": "code",
      "execution_count": 8,
      "metadata": {
        "colab": {
          "base_uri": "https://localhost:8080/"
        },
        "id": "XHM76TB2FSLn",
        "outputId": "b14b2152-5112-47ac-d447-756ac1690371"
      },
      "outputs": [
        {
          "data": {
            "text/plain": [
              "[(0.0, 0.0, 0.0, 0.0, 0.0, 0.0), (0.0, -90.0, 180.0, -180.0, 90.0, -180.0)]"
            ]
          },
          "execution_count": 8,
          "metadata": {},
          "output_type": "execute_result"
        }
      ],
      "source": [
        "T = np.array([\n",
        "    [1, 0, 0, 2],\n",
        "    [0, 1, 0, 0],\n",
        "    [0, 0, 1, 1],\n",
        "    [0, 0, 0, 1]\n",
        "])\n",
        "sol = inverse_puma(T)\n",
        "sol"
      ]
    },
    {
      "cell_type": "code",
      "execution_count": 9,
      "metadata": {
        "colab": {
          "base_uri": "https://localhost:8080/"
        },
        "id": "GOlImrzpGYdR",
        "outputId": "46bd2bd7-2a27-4a6a-ebfd-6235d8fa5fd5"
      },
      "outputs": [
        {
          "data": {
            "text/plain": [
              "[(90.0, 0.0, 0.0, 0.0, 0.0, 90.0), (90.0, -90.0, 180.0, 90.0, 90.0, -180.0)]"
            ]
          },
          "execution_count": 9,
          "metadata": {},
          "output_type": "execute_result"
        }
      ],
      "source": [
        "T = np.array([\n",
        "    [1, 0, 0, 0],\n",
        "    [0, 1, 0, 2],\n",
        "    [0, 0, 1, 1],\n",
        "    [0, 0, 0, 1]\n",
        "])\n",
        "sol = inverse_puma(T)\n",
        "sol"
      ]
    },
    {
      "cell_type": "code",
      "execution_count": 10,
      "metadata": {
        "colab": {
          "base_uri": "https://localhost:8080/"
        },
        "id": "DQNyGhD3ljzW",
        "outputId": "d347e45e-2229-4f40-f807-feb70518d5b2"
      },
      "outputs": [
        {
          "data": {
            "text/plain": [
              "[(-1.7541773258550455e-15, 0.0, 90.0, -180.0, -180.0, 10.000000018915028),\n",
              " (-1.7541773258550455e-15, 0.0, 90.0, -180.0, -180.0, 10.000000018915028)]"
            ]
          },
          "execution_count": 10,
          "metadata": {},
          "output_type": "execute_result"
        }
      ],
      "source": [
        "T = np.array([[ 7.09349674e-17, 4.96691989e-17, -1.00000000e+00, 4.00000000e+00],\n",
        " [-1.73648178e-01, -9.84807753e-01, -6.12323400e-17, -1.22464680e-16],\n",
        " [-9.84807753e-01,  1.73648178e-01, -6.12323400e-17,  3.00000000e+00],\n",
        " [ 0.00000000e+00,  0.00000000e+00,  0.00000000e+00,  1.00000000e+00]])\n",
        "sol = inverse_puma(T)\n",
        "sol"
      ]
    },
    {
      "cell_type": "markdown",
      "metadata": {
        "id": "lWt6UuC2W3oS"
      },
      "source": [
        "## Проверка"
      ]
    },
    {
      "cell_type": "markdown",
      "metadata": {
        "id": "W8fDeSbqsiNC"
      },
      "source": [
        "Функция генерирует углы, решает задачу прямой кинематике, находя T, а затем, используя функцию обратной кинематики, находит конфигурации. Эти конфигурации преобразуются в матрицу преобразования и сравнивают с искомой матрицей."
      ]
    },
    {
      "cell_type": "code",
      "execution_count": 11,
      "metadata": {
        "id": "_T4b1lpZlyU9"
      },
      "outputs": [],
      "source": [
        "def test_fk_ik_10(tol_pos=1e-7, tol_ang=1e-7, seed=0):\n",
        "    \"Сгенерировать 100 случайных конфигураций, проверить FK→IK→FK на эквивалентность.\"\n",
        "    rng = np.random.default_rng(seed)\n",
        "\n",
        "    def wrap_pi(a): return (a + np.pi) % (2*np.pi) - np.pi\n",
        "    def rot3_of(T4): return np.asarray(T4[:3, :3], float)\n",
        "    def rot_err(Ra, Rb):\n",
        "        tr = np.clip((np.trace(Ra.T @ Rb) - 1.0) / 2.0, -1.0, 1.0)\n",
        "        return float(np.arccos(tr))\n",
        "    def same_pose(Ta, Tb):\n",
        "        pa, pb = np.asarray(Ta[:3, 3], float), np.asarray(Tb[:3, 3], float)\n",
        "        return np.linalg.norm(pa - pb) <= tol_pos and rot_err(rot3_of(Ta), rot3_of(Tb)) <= tol_ang\n",
        "    def fk(t):\n",
        "        t0, t1, t2, t3, t4, t5 = t\n",
        "        return T_next(theta0_rad, l1, np.pi/2, 0) @ T_next(theta1_rad, 0, 0, l2) @ T_next(theta2_rad, 0, np.pi/2, 0) @ T_next(-theta3_rad, l3, -np.pi/2, 0) @ T_next(-theta4_rad, 0, np.pi/2, 0) @ T_next(theta5_rad, 0, 0, 0)\n",
        "\n",
        "    for _ in range(100):\n",
        "        t = np.array([\n",
        "            rng.uniform(-np.pi, np.pi),\n",
        "            rng.uniform(-np.pi/2, np.pi/2),\n",
        "            rng.uniform(-np.pi/2, np.pi/2),\n",
        "            rng.uniform(-np.pi, np.pi),\n",
        "            rng.uniform(0.0, np.pi),\n",
        "            rng.uniform(-np.pi, np.pi),\n",
        "        ], float)\n",
        "        T_ref = fk(t)\n",
        "        sols = inverse_puma(T_ref, degrees=False)\n",
        "        if not sols:\n",
        "            raise AssertionError(\"ИК не нашла решений\")\n",
        "        if not any(same_pose(T_ref, fk(s)) for s in sols):\n",
        "            raise AssertionError(\"Ни одно решение ИК не воспроизводит FK-позу\")\n",
        "    return True\n"
      ]
    },
    {
      "cell_type": "code",
      "execution_count": 12,
      "metadata": {
        "colab": {
          "base_uri": "https://localhost:8080/"
        },
        "id": "X9uh-Rp5pEGv",
        "outputId": "c4423ba0-724d-4c3c-b1a2-1d7f45698e84"
      },
      "outputs": [
        {
          "data": {
            "text/plain": [
              "True"
            ]
          },
          "execution_count": 12,
          "metadata": {},
          "output_type": "execute_result"
        }
      ],
      "source": [
        "test_fk_ik_10()"
      ]
    },
    {
      "cell_type": "markdown",
      "metadata": {
        "id": "_K6iA0-nr3l_"
      },
      "source": [
        "## Визуализация"
      ]
    },
    {
      "cell_type": "markdown",
      "metadata": {
        "id": "qJMyRnivsa8k"
      },
      "source": [
        "Визуализируем ошибку решения и несколько конфигураций робота"
      ]
    },
    {
      "cell_type": "code",
      "execution_count": 17,
      "metadata": {
        "colab": {
          "base_uri": "https://localhost:8080/"
        },
        "id": "k96sjDZ_q1iy",
        "outputId": "f12fb884-0220-45ae-f667-5b13c0f77edb"
      },
      "outputs": [
        {
          "name": "stdout",
          "output_type": "stream",
          "text": [
            "Сохранено: ['images/example_1_config_ref.png', 'images/example_2_config_ref.png', 'images/example_3_config_ref.png']\n"
          ]
        }
      ],
      "source": [
        "import os\n",
        "import numpy as np\n",
        "import matplotlib.pyplot as plt\n",
        "\n",
        "l1, l2, l3 = 1.0, 4.0, 1.0\n",
        "\n",
        "# ---- утилиты ----\n",
        "def rot3_of(T4):\n",
        "    return np.asarray(T4[:3, :3], float)\n",
        "\n",
        "def same_pose(Ta, Tb, tol_pos=1e-7, tol_ang=1e-7):\n",
        "    Ra, Rb = rot3_of(Ta), rot3_of(Tb)\n",
        "    pa, pb = np.asarray(Ta[:3,3], float), np.asarray(Tb[:3,3], float)\n",
        "    pos_ok = np.linalg.norm(pa - pb) <= tol_pos\n",
        "    tr = np.clip((np.trace(Ra.T @ Rb) - 1.0)/2.0, -1.0, 1.0)\n",
        "    ang_ok = float(np.arccos(tr)) <= tol_ang\n",
        "    return pos_ok and ang_ok\n",
        "\n",
        "def fk_puma(t, l1, l2, l3):\n",
        "    t0, t1, t2, t3, t4, t5 = t\n",
        "    return (\n",
        "        T_next(t0,  l1,  np.pi/2, 0) @\n",
        "        T_next(t1,  0.0, 0.0,     l2) @\n",
        "        T_next(t2,  0.0, np.pi/2, 0) @\n",
        "        T_next(-t3, l3, -np.pi/2, 0) @\n",
        "        T_next(-t4, 0.0, np.pi/2, 0) @\n",
        "        T_next(t5,  0.0, 0.0,     0)\n",
        "    )\n",
        "\n",
        "def fk_with_origins(t, l1, l2, l3):\n",
        "    T = np.eye(4)\n",
        "    origins = [T[:3,3].copy()]\n",
        "    for A in (\n",
        "        T_next(t[0],  l1,  np.pi/2, 0),\n",
        "        T_next(t[1],  0.0, 0.0,     l2),\n",
        "        T_next(t[2],  0.0, np.pi/2, 0),\n",
        "        T_next(-t[3], l3, -np.pi/2, 0),\n",
        "        T_next(-t[4], 0.0, np.pi/2, 0),\n",
        "        T_next(t[5],  0.0, 0.0,     0),\n",
        "    ):\n",
        "        T = T @ A\n",
        "        origins.append(T[:3,3].copy())\n",
        "    return T, np.stack(origins, axis=0)  # финальная поза и точки суставов\n",
        "\n",
        "def plot_arm(origins, title, filepath):\n",
        "    fig = plt.figure()\n",
        "    ax = fig.add_subplot(111, projection='3d')\n",
        "    xs, ys, zs = origins[:,0], origins[:,1], origins[:,2]\n",
        "    ax.plot(xs, ys, zs, marker='o')\n",
        "    ax.set_xlabel('x'); ax.set_ylabel('y'); ax.set_zlabel('z')\n",
        "    ax.set_title(title)\n",
        "    mins, maxs = origins.min(0), origins.max(0)\n",
        "    center = (mins + maxs)/2\n",
        "    span = float(max(maxs - mins)) or 1.0\n",
        "    pad = 0.25*span\n",
        "    ax.set_xlim(center[0]-span/2-pad, center[0]+span/2+pad)\n",
        "    ax.set_ylim(center[1]-span/2-pad, center[1]+span/2+pad)\n",
        "    ax.set_zlim(center[2]-span/2-pad, center[2]+span/2+pad)\n",
        "    fig.tight_layout()\n",
        "    fig.savefig(filepath, dpi=160)\n",
        "    plt.close(fig)\n",
        "\n",
        "# ---- 1) рабочее пространство (только точки, без ошибок ориентации) ----\n",
        "def sample_workspace(n=2000, seed=42):\n",
        "    rng = np.random.default_rng(seed)\n",
        "    pts = []\n",
        "    for _ in range(n):\n",
        "        t = np.array([\n",
        "            rng.uniform(-np.pi, np.pi),\n",
        "            rng.uniform(-np.pi/2, np.pi/2),\n",
        "            rng.uniform(-np.pi/2, np.pi/2),\n",
        "            rng.uniform(-np.pi, np.pi),\n",
        "            rng.uniform(0.0, np.pi),\n",
        "            rng.uniform(-np.pi, np.pi),\n",
        "        ], dtype=float)\n",
        "        T = fk_puma(t, l1, l2, l3)\n",
        "        pts.append(T[:3,3])\n",
        "    pts = np.array(pts)\n",
        "    fig = plt.figure()\n",
        "    ax = fig.add_subplot(111, projection='3d')\n",
        "    ax.scatter(pts[:,0], pts[:,1], pts[:,2], s=3)\n",
        "    ax.set_xlabel('x'); ax.set_ylabel('y'); ax.set_zlabel('z')\n",
        "    ax.set_title('Рабочее пространство (облако точек)')\n",
        "    fig.tight_layout()\n",
        "    fig.savefig(\"images/workspace_points.png\", dpi=160)\n",
        "    plt.close(fig)\n",
        "\n",
        "# ---- 2) примеры: одна целевая поза → все IK-ветви → картинки робота ----\n",
        "def visualize_examples(num_targets=3, seed=0, tol_pos=1e-6, tol_ang=1e-6, max_per_target=12):\n",
        "    rng = np.random.default_rng(seed)\n",
        "    saved = []\n",
        "\n",
        "    def to_radians_if_needed(s):\n",
        "        s = np.asarray(s, float).ravel()\n",
        "        if s.size != 6:\n",
        "            return None\n",
        "        if np.max(np.abs(s)) > 2*np.pi + 1e-3:\n",
        "            s = np.deg2rad(s)\n",
        "        return s\n",
        "\n",
        "    for i in range(1, num_targets+1):\n",
        "        t_true = np.array([\n",
        "            rng.uniform(-np.pi, np.pi),\n",
        "            rng.uniform(-np.pi/2, np.pi/2),\n",
        "            rng.uniform(-np.pi/2, np.pi/2),\n",
        "            rng.uniform(-np.pi, np.pi),\n",
        "            rng.uniform(0.0, np.pi),\n",
        "            rng.uniform(-np.pi, np.pi),\n",
        "        ], dtype=float)\n",
        "\n",
        "        Tref, _ = fk_with_origins(t_true, l1, l2, l3)\n",
        "\n",
        "        # всегда сохраняем референсную конфигурацию\n",
        "        _, origins_ref = fk_with_origins(t_true, l1, l2, l3)\n",
        "        ref_path = f\"images/example_{i}_config_ref.png\"\n",
        "        plot_arm(origins_ref, f\"Цель {i}, референс\\nθ[рад]={np.round(t_true,3)}\", ref_path)\n",
        "        saved.append(ref_path)\n",
        "\n",
        "        try:\n",
        "            sols = inverse_puma(Tref, l1=l1, l2=l2, l3=l3, degrees=False)\n",
        "        except TypeError:\n",
        "            sols = inverse_puma(Tref, degrees=False)\n",
        "\n",
        "        if not sols:\n",
        "            continue\n",
        "\n",
        "        unique = []\n",
        "        for s in sols:\n",
        "            s = to_radians_if_needed(s)\n",
        "            if s is None:\n",
        "                continue\n",
        "            Tchk = fk_puma(s, l1, l2, l3)\n",
        "            if not same_pose(Tref, Tchk, tol_pos, tol_ang):\n",
        "                continue\n",
        "            # отфильтровываем дубликаты по позе\n",
        "            if any(same_pose(Tchk, fk_puma(u, l1, l2, l3), tol_pos, tol_ang) for u in unique):\n",
        "                continue\n",
        "            unique.append(s)\n",
        "            _, origins = fk_with_origins(s, l1, l2, l3)\n",
        "            path = f\"images/example_{i}_config_{len(unique)}.png\"\n",
        "            title = f\"Цель {i}, конфигурация {len(unique)}\\nθ[рад]={np.round(s,3)}\"\n",
        "            plot_arm(origins, title, path)\n",
        "            saved.append(path)\n",
        "            if len(unique) >= max_per_target:\n",
        "                break\n",
        "\n",
        "    return saved\n",
        "\n",
        "\n",
        "# запуски\n",
        "sample_workspace(n=2000, seed=42)\n",
        "files = visualize_examples(num_targets=3, seed=7)\n",
        "print(\"Сохранено:\", files)\n"
      ]
    },
    {
      "cell_type": "markdown",
      "metadata": {},
      "source": [
        "<!-- строка 1: три 3D-конфигурации -->\n",
        "| ![cfg1](images/example_1_config_ref.png) | ![cfg2](images/example_2_config_ref.png) | ![cfg3](images/example_3_config_ref.png) |\n",
        "|:--:|:--:|:--:|\n",
        "| Конфигурация 1 | Конфигурация 2 | Конфигурация 3 |\n",
        "\n",
        "<!-- строка 2: матрица охвата и ошибка -->\n",
        "| ![coverage](images/ik_pos_error_hist.png) | ![error](images/workspace_points.png) |\n",
        "|:--:|:--:|\n",
        "| Матрица охвата | Карта ошибки |\n"
      ]
    }
  ],
  "metadata": {
    "colab": {
      "provenance": []
    },
    "kernelspec": {
      "display_name": "base_env",
      "language": "python",
      "name": "python3"
    },
    "language_info": {
      "codemirror_mode": {
        "name": "ipython",
        "version": 3
      },
      "file_extension": ".py",
      "mimetype": "text/x-python",
      "name": "python",
      "nbconvert_exporter": "python",
      "pygments_lexer": "ipython3",
      "version": "3.11.13"
    }
  },
  "nbformat": 4,
  "nbformat_minor": 0
}
